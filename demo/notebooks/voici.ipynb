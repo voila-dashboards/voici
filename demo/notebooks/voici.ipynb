{
 "cells": [
  {
   "cell_type": "markdown",
   "id": "55d0afcb-cc0a-426b-872d-405caf88d955",
   "metadata": {},
   "source": [
    "# So easy, Voici!"
   ]
  },
  {
   "cell_type": "code",
   "execution_count": null,
   "id": "55951a9b-3308-4c93-9ee4-cbe51035937d",
   "metadata": {
    "tags": []
   },
   "outputs": [],
   "source": [
    "import ipywidgets as widgets\n",
    "\n",
    "slider = widgets.FloatSlider(description='$x$')\n",
    "text = widgets.FloatText(disabled=True, description='$x^2$')\n",
    "\n",
    "def compute(*ignore):\n",
    "    text.value = str(slider.value ** 2)\n",
    "\n",
    "slider.observe(compute, 'value')\n",
    "\n",
    "slider.value = 4\n",
    "\n",
    "widgets.VBox([slider, text])"
   ]
  },
  {
   "cell_type": "code",
   "execution_count": null,
   "id": "19fb897c-1e45-48dc-a0bf-fa62cd5d9669",
   "metadata": {
    "tags": []
   },
   "outputs": [],
   "source": [
    "import pandas as pd\n",
    "\n",
    "df = pd.read_csv('iris.csv')\n",
    "df"
   ]
  }
 ],
 "metadata": {
  "kernelspec": {
   "display_name": "Python 3 (ipykernel)",
   "language": "python",
   "name": "python3"
  },
  "language_info": {
   "codemirror_mode": {
    "name": "ipython",
    "version": 3
   },
   "file_extension": ".py",
   "mimetype": "text/x-python",
   "name": "python",
   "nbconvert_exporter": "python",
   "pygments_lexer": "ipython3",
   "version": "3.11.0"
  }
 },
 "nbformat": 4,
 "nbformat_minor": 5
}
